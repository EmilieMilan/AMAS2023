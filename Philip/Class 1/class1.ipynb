{
 "cells": [
  {
   "cell_type": "code",
   "execution_count": 98,
   "metadata": {},
   "outputs": [],
   "source": [
    "import numpy as np                                     \n",
    "import matplotlib.pyplot as plt                      \n",
    "import seaborn as sns                                \n",
    "from iminuit import Minuit                      \n",
    "import sys             \n",
    "from sympy import *                           \n",
    "from scipy import stats\n",
    "from scipy.stats import binom\n",
    "from scipy.special import binom as binomcoef\n",
    "from scipy.special import expit\n",
    "import pandas as pd\n",
    "import os\n",
    "from importlib import reload\n",
    "\n",
    "plt.style.use(\"../KD_style.mplstyle\")"
   ]
  },
  {
   "cell_type": "code",
   "execution_count": 99,
   "metadata": {},
   "outputs": [],
   "source": [
    "data = pd.read_csv(\"./FranksNumbers.txt\", sep = \"\\s+\", names = [\"x\", \"y\", \"delete\"], skiprows=1)\n",
    "data = data.drop(\"delete\", axis = 1)\n",
    "# digit_mask = np.array([row.isdigit() for row in data[\"x\"]])\n",
    "false_indices = np.array([idx for idx, row in enumerate(data[\"x\"]) if not row.isdigit()])\n",
    "# print(false_indices)\n",
    "data_dict = {}\n",
    "for idx, dataset in enumerate(np.split(data.to_numpy(), false_indices)):\n",
    "    data_dict[idx] = pd.DataFrame(dataset[1:], columns = data.keys(), dtype=np.float64)\n",
    "\n",
    "del data_dict[0]\n"
   ]
  },
  {
   "cell_type": "code",
   "execution_count": 100,
   "metadata": {},
   "outputs": [
    {
     "data": {
      "text/html": [
       "<div>\n",
       "<style scoped>\n",
       "    .dataframe tbody tr th:only-of-type {\n",
       "        vertical-align: middle;\n",
       "    }\n",
       "\n",
       "    .dataframe tbody tr th {\n",
       "        vertical-align: top;\n",
       "    }\n",
       "\n",
       "    .dataframe thead th {\n",
       "        text-align: right;\n",
       "    }\n",
       "</style>\n",
       "<table border=\"1\" class=\"dataframe\">\n",
       "  <thead>\n",
       "    <tr style=\"text-align: right;\">\n",
       "      <th></th>\n",
       "      <th>x_mean</th>\n",
       "      <th>x_var</th>\n",
       "      <th>y_mean</th>\n",
       "      <th>y_var</th>\n",
       "    </tr>\n",
       "  </thead>\n",
       "  <tbody>\n",
       "    <tr>\n",
       "      <th>0</th>\n",
       "      <td>9.0</td>\n",
       "      <td>11.000000</td>\n",
       "      <td>7.500909</td>\n",
       "      <td>4.127269</td>\n",
       "    </tr>\n",
       "    <tr>\n",
       "      <th>1</th>\n",
       "      <td>9.0</td>\n",
       "      <td>11.000000</td>\n",
       "      <td>7.500909</td>\n",
       "      <td>4.127629</td>\n",
       "    </tr>\n",
       "    <tr>\n",
       "      <th>2</th>\n",
       "      <td>9.0</td>\n",
       "      <td>11.000000</td>\n",
       "      <td>7.500000</td>\n",
       "      <td>4.122620</td>\n",
       "    </tr>\n",
       "    <tr>\n",
       "      <th>3</th>\n",
       "      <td>9.0</td>\n",
       "      <td>11.000000</td>\n",
       "      <td>7.500909</td>\n",
       "      <td>4.123249</td>\n",
       "    </tr>\n",
       "    <tr>\n",
       "      <th>4</th>\n",
       "      <td>9.0</td>\n",
       "      <td>10.232558</td>\n",
       "      <td>7.500682</td>\n",
       "      <td>3.837388</td>\n",
       "    </tr>\n",
       "  </tbody>\n",
       "</table>\n",
       "</div>"
      ],
      "text/plain": [
       "   x_mean      x_var    y_mean     y_var\n",
       "0     9.0  11.000000  7.500909  4.127269\n",
       "1     9.0  11.000000  7.500909  4.127629\n",
       "2     9.0  11.000000  7.500000  4.122620\n",
       "3     9.0  11.000000  7.500909  4.123249\n",
       "4     9.0  10.232558  7.500682  3.837388"
      ]
     },
     "metadata": {},
     "output_type": "display_data"
    },
    {
     "data": {
      "image/png": "[encoded data removed]",
      "text/plain": [
       "<Figure size 1440x320 with 5 Axes>"
      ]
     },
     "metadata": {},
     "output_type": "display_data"
    }
   ],
   "source": [
    "fig, axes = plt.subplots(1, 5, figsize = (18,4), sharey = True)\n",
    "data_info = np.zeros((len(data_dict.keys()), 4)) # data is setup to be x_mean, x_variance, y_mean, y_variacne \n",
    "for idx, (dataset, ax) in enumerate(zip(data_dict.values(), axes)):\n",
    "    sns.scatterplot(x = 'x', y = 'y', data = dataset, ax = ax, s = 70)\n",
    "    data_info[idx] = [np.mean(dataset[\"x\"]), np.var(dataset[\"x\"], ddof=1), np.mean(dataset[\"y\"]), np.var(dataset[\"y\"], ddof = 1)]\n",
    "    ax.set_xlim(0,20)\n",
    "    ax.set_ylim(0,15)\n",
    "data_info_df = pd.DataFrame(data_info, columns=[\"x_mean\", \"x_var\", \"y_mean\", \"y_var\"])\n",
    "display(data_info_df)\n",
    "plt.tight_layout()"
   ]
  },
  {
   "cell_type": "code",
   "execution_count": 101,
   "metadata": {},
   "outputs": [],
   "source": [
    "# add errors to datasets:\n",
    "for idx, (dataset, key) in enumerate(zip(data_dict.values(), data_dict.keys())):\n",
    "    sqrt_err = np.sqrt(dataset[\"y\"].to_numpy())\n",
    "    fix_err = [1.22 for row in dataset[\"x\"]]\n",
    "    error_df = pd.DataFrame(np.array([sqrt_err, fix_err]).T, columns = [\"sqrt_err\", \"fixed_err\"])\n",
    "    data_dict[key] = pd.concat([dataset, error_df], axis = 1)"
   ]
  },
  {
   "cell_type": "code",
   "execution_count": 102,
   "metadata": {},
   "outputs": [],
   "source": [
    "def try_func(x):\n",
    "    return 0.48*x + 3.02\n",
    "\n",
    "def chi2(func, x, y, y_err):\n",
    "    return np.sum((y - func(x))**2/y_err**2)\n",
    "\n",
    "chi2_matrix = np.zeros([len(data_dict.keys()), 2])\n",
    "\n",
    "for idx, dataset in enumerate(data_dict.values()):\n",
    "    chi2_sqrt = chi2(try_func, dataset[\"x\"], dataset[\"y\"], dataset[\"sqrt_err\"])\n",
    "    chi2_fixed = chi2(try_func, dataset[\"x\"], dataset[\"y\"], dataset[\"fixed_err\"])\n",
    "    chi2_matrix[idx] = [chi2_sqrt, chi2_fixed]\n",
    "chi2_df = pd.DataFrame(chi2_matrix, columns = [\"chi2_sqrt_err\",\"chi2_fixed_err\"])\n",
    "data_info_df = pd.concat([data_info_df, chi2_df], axis = 1)"
   ]
  },
  {
   "cell_type": "code",
   "execution_count": 103,
   "metadata": {},
   "outputs": [
    {
     "data": {
      "text/html": [
       "<div>\n",
       "<style scoped>\n",
       "    .dataframe tbody tr th:only-of-type {\n",
       "        vertical-align: middle;\n",
       "    }\n",
       "\n",
       "    .dataframe tbody tr th {\n",
       "        vertical-align: top;\n",
       "    }\n",
       "\n",
       "    .dataframe thead th {\n",
       "        text-align: right;\n",
       "    }\n",
       "</style>\n",
       "<table border=\"1\" class=\"dataframe\">\n",
       "  <thead>\n",
       "    <tr style=\"text-align: right;\">\n",
       "      <th></th>\n",
       "      <th>x_mean</th>\n",
       "      <th>x_var</th>\n",
       "      <th>y_mean</th>\n",
       "      <th>y_var</th>\n",
       "      <th>chi2_sqrt_err</th>\n",
       "      <th>chi2_fixed_err</th>\n",
       "    </tr>\n",
       "  </thead>\n",
       "  <tbody>\n",
       "    <tr>\n",
       "      <th>0</th>\n",
       "      <td>9.0</td>\n",
       "      <td>11.000000</td>\n",
       "      <td>7.500909</td>\n",
       "      <td>4.127269</td>\n",
       "      <td>1.894609</td>\n",
       "      <td>9.467818</td>\n",
       "    </tr>\n",
       "    <tr>\n",
       "      <th>1</th>\n",
       "      <td>9.0</td>\n",
       "      <td>11.000000</td>\n",
       "      <td>7.500909</td>\n",
       "      <td>4.127629</td>\n",
       "      <td>2.405990</td>\n",
       "      <td>9.476686</td>\n",
       "    </tr>\n",
       "    <tr>\n",
       "      <th>2</th>\n",
       "      <td>9.0</td>\n",
       "      <td>11.000000</td>\n",
       "      <td>7.500000</td>\n",
       "      <td>4.122620</td>\n",
       "      <td>1.207580</td>\n",
       "      <td>9.460226</td>\n",
       "    </tr>\n",
       "    <tr>\n",
       "      <th>3</th>\n",
       "      <td>9.0</td>\n",
       "      <td>11.000000</td>\n",
       "      <td>7.500909</td>\n",
       "      <td>4.123249</td>\n",
       "      <td>2.017383</td>\n",
       "      <td>9.453709</td>\n",
       "    </tr>\n",
       "    <tr>\n",
       "      <th>4</th>\n",
       "      <td>9.0</td>\n",
       "      <td>10.232558</td>\n",
       "      <td>7.500682</td>\n",
       "      <td>3.837388</td>\n",
       "      <td>7.525561</td>\n",
       "      <td>37.858439</td>\n",
       "    </tr>\n",
       "  </tbody>\n",
       "</table>\n",
       "</div>"
      ],
      "text/plain": [
       "   x_mean      x_var    y_mean     y_var  chi2_sqrt_err  chi2_fixed_err\n",
       "0     9.0  11.000000  7.500909  4.127269       1.894609        9.467818\n",
       "1     9.0  11.000000  7.500909  4.127629       2.405990        9.476686\n",
       "2     9.0  11.000000  7.500000  4.122620       1.207580        9.460226\n",
       "3     9.0  11.000000  7.500909  4.123249       2.017383        9.453709\n",
       "4     9.0  10.232558  7.500682  3.837388       7.525561       37.858439"
      ]
     },
     "metadata": {},
     "output_type": "display_data"
    }
   ],
   "source": [
    "display(data_info_df)"
   ]
  }
 ],
 "metadata": {
  "kernelspec": {
   "display_name": "Python 3",
   "language": "python",
   "name": "python3"
  },
  "language_info": {
   "codemirror_mode": {
    "name": "ipython",
    "version": 3
   },
   "file_extension": ".py",
   "mimetype": "text/x-python",
   "name": "python",
   "nbconvert_exporter": "python",
   "pygments_lexer": "ipython3",
   "version": "3.11.1"
  },
  "orig_nbformat": 4,
  "vscode": {
   "interpreter": {
    "hash": "73d367d38892401ed2227ee085464fe14e273a216690dc621e43d408ef2f35f2"
   }
  }
 },
 "nbformat": 4,
 "nbformat_minor": 2
}
